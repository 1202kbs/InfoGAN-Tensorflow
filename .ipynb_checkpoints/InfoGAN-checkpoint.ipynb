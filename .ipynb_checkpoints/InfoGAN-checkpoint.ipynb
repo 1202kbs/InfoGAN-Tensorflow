{
 "cells": [
  {
   "cell_type": "code",
   "execution_count": null,
   "metadata": {
    "collapsed": true
   },
   "outputs": [],
   "source": [
    "import os\n",
    "\n",
    "import pprint\n",
    "import numpy as np\n",
    "import tensorflow as tf\n",
    "import matplotlib.pyplot as plt\n",
    "\n",
    "from model4 import VanillaInfoGAN\n",
    "from model2 import InfoDCGAN\n",
    "\n",
    "import os\n",
    "\n",
    "import pprint\n",
    "import tensorflow as tf\n",
    "\n",
    "from model1 import VanillaInfoGAN\n",
    "from model2 import InfoDCGAN\n",
    "\n",
    "\n",
    "pp = pprint.PrettyPrinter()\n",
    "\n",
    "flags = tf.app.flags\n",
    "\n",
    "flags.DEFINE_integer('input_dim', 784, 'dimension of the discriminator input placeholder [784]')\n",
    "flags.DEFINE_integer('z_dim', 5, 'dimension of the generator input noise variable z [5]')\n",
    "flags.DEFINE_integer('c_cat', 10, 'dimension of the categorical latent code [10]')\n",
    "flags.DEFINE_integer('c_cont', 2, 'dimension of the continuous latent code [2]')\n",
    "flags.DEFINE_integer('d_update', 2, 'update the discriminator weights [d_update] times per generator/Q network update [2]')\n",
    "flags.DEFINE_integer('batch_size', 128, 'batch size to use during training [128]')\n",
    "flags.DEFINE_integer('nepoch', 100, 'number of epochs to use during training [100]')\n",
    "flags.DEFINE_float('lr', 0.001, 'learning rate of the optimizer to use during training [0.001]')\n",
    "flags.DEFINE_float('max_grad_norm', 40, 'clip L2-norm of gradients to this threshold [40]')\n",
    "flags.DEFINE_string('gan_type', 'InfoDCGAN', 'input \"VanillaInfoGAN\" to use Vanilla InfoGAN; otherwise, input \"InfoDCGAN\" [VanillaInfoGAN]')\n",
    "flags.DEFINE_string('checkpoint_dir', './checkpoints', 'checkpoint directory [./checkpoints]')\n",
    "flags.DEFINE_string('image_dir', './images', 'directory to save generated images to [./images]')\n",
    "flags.DEFINE_bool('use_adam', True, 'if True, use Adam optimizer; otherwise, use SGD [True]')\n",
    "flags.DEFINE_bool('show_progress', False, 'print progress [False]')\n",
    "\n",
    "FLAGS = flags.FLAGS"
   ]
  },
  {
   "cell_type": "code",
   "execution_count": 1,
   "metadata": {
    "collapsed": true
   },
   "outputs": [],
   "source": [
    "with tf.Session() as sess:\n",
    "\n",
    "    if FLAGS.gan_type == 'VanillaInfoGAN':\n",
    "        model = VanillaInfoGAN(FLAGS, sess)\n",
    "    elif FLAGS.gan_type == 'InfoDCGAN':\n",
    "        model = InfoDCGAN(FLAGS, sess)\n",
    "    else:\n",
    "        raise Exception(\"Unimplemented Type of InfoGAN\")\n",
    "\n",
    "    model.build_model()\n",
    "    model.run()"
   ]
  },
  {
   "cell_type": "code",
   "execution_count": 5,
   "metadata": {},
   "outputs": [
    {
     "name": "stdout",
     "output_type": "stream",
     "text": [
      "Extracting MNIST_data/train-images-idx3-ubyte.gz\n",
      "Extracting MNIST_data/train-labels-idx1-ubyte.gz\n",
      "Extracting MNIST_data/t10k-images-idx3-ubyte.gz\n",
      "Extracting MNIST_data/t10k-labels-idx1-ubyte.gz\n",
      "[*] Reading Checkpoints...\n",
      "INFO:tensorflow:Restoring parameters from ./checkpoints/InfoGAN.model\n"
     ]
    }
   ],
   "source": [
    "c_cat = np.zeros(shape=[16, 10], dtype=np.float32)\n",
    "c_cat[:4, 1].fill(1.)\n",
    "c_cat[4:8, 2].fill(1.)\n",
    "c_cat[8:12, 7].fill(1.)\n",
    "c_cat[12:, 9].fill(1.)\n",
    "\n",
    "c_cont = np.zeros(shape=[16, 2], dtype=np.float32)\n",
    "\n",
    "with tf.Session() as sess:\n",
    "    model = VanillaInfoGAN(FLAGS, sess)\n",
    "    model.build_model()\n",
    "    pred = model.generate(c_cat, c_cont)"
   ]
  },
  {
   "cell_type": "code",
   "execution_count": 6,
   "metadata": {},
   "outputs": [
    {
     "data": {
      "image/png": "[encoded data removed]",
      "text/plain": [
       "<matplotlib.figure.Figure at 0x7f7dce55d8d0>"
      ]
     },
     "metadata": {},
     "output_type": "display_data"
    }
   ],
   "source": [
    "plt.figure(figsize=(5, 5))\n",
    "\n",
    "for i in range(16):\n",
    "    plt.subplot(4, 4, i + 1)\n",
    "    plt.imshow(pred[i].reshape(28, 28), vmin=0, vmax=1, interpolation='NONE', cmap=plt.get_cmap('gray'))\n",
    "\n",
    "plt.tight_layout()"
   ]
  },
  {
   "cell_type": "code",
   "execution_count": null,
   "metadata": {
    "collapsed": true
   },
   "outputs": [],
   "source": []
  }
 ],
 "metadata": {
  "kernelspec": {
   "display_name": "Python 3",
   "language": "python",
   "name": "python3"
  },
  "language_info": {
   "codemirror_mode": {
    "name": "ipython",
    "version": 3
   },
   "file_extension": ".py",
   "mimetype": "text/x-python",
   "name": "python",
   "nbconvert_exporter": "python",
   "pygments_lexer": "ipython3",
   "version": "3.5.3"
  }
 },
 "nbformat": 4,
 "nbformat_minor": 2
}
